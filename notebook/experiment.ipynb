{
 "cells": [
  {
   "cell_type": "code",
   "execution_count": 1,
   "id": "9b8c06fa",
   "metadata": {},
   "outputs": [],
   "source": [
    "import pandas as pd\n",
    "import numpy as np\n",
    "import seaborn as sns\n",
    "from sklearn.model_selection import train_test_split\n",
    "import matplotlib.pyplot as plt\n",
    "%matplotlib inline"
   ]
  },
  {
   "cell_type": "code",
   "execution_count": 2,
   "id": "9c898417",
   "metadata": {},
   "outputs": [
    {
     "data": {
      "text/html": [
       "<div>\n",
       "<style scoped>\n",
       "    .dataframe tbody tr th:only-of-type {\n",
       "        vertical-align: middle;\n",
       "    }\n",
       "\n",
       "    .dataframe tbody tr th {\n",
       "        vertical-align: top;\n",
       "    }\n",
       "\n",
       "    .dataframe thead th {\n",
       "        text-align: right;\n",
       "    }\n",
       "</style>\n",
       "<table border=\"1\" class=\"dataframe\">\n",
       "  <thead>\n",
       "    <tr style=\"text-align: right;\">\n",
       "      <th></th>\n",
       "      <th>id</th>\n",
       "      <th>Gender</th>\n",
       "      <th>Age</th>\n",
       "      <th>City</th>\n",
       "      <th>Profession</th>\n",
       "      <th>Academic Pressure</th>\n",
       "      <th>Work Pressure</th>\n",
       "      <th>CGPA</th>\n",
       "      <th>Study Satisfaction</th>\n",
       "      <th>Job Satisfaction</th>\n",
       "      <th>Sleep Duration</th>\n",
       "      <th>Dietary Habits</th>\n",
       "      <th>Degree</th>\n",
       "      <th>Have you ever had suicidal thoughts ?</th>\n",
       "      <th>Work/Study Hours</th>\n",
       "      <th>Financial Stress</th>\n",
       "      <th>Family History of Mental Illness</th>\n",
       "      <th>Depression</th>\n",
       "    </tr>\n",
       "  </thead>\n",
       "  <tbody>\n",
       "    <tr>\n",
       "      <th>0</th>\n",
       "      <td>2</td>\n",
       "      <td>Male</td>\n",
       "      <td>33.0</td>\n",
       "      <td>Visakhapatnam</td>\n",
       "      <td>Student</td>\n",
       "      <td>5.0</td>\n",
       "      <td>0.0</td>\n",
       "      <td>8.97</td>\n",
       "      <td>2.0</td>\n",
       "      <td>0.0</td>\n",
       "      <td>'5-6 hours'</td>\n",
       "      <td>Healthy</td>\n",
       "      <td>B.Pharm</td>\n",
       "      <td>Yes</td>\n",
       "      <td>3.0</td>\n",
       "      <td>1.0</td>\n",
       "      <td>No</td>\n",
       "      <td>1</td>\n",
       "    </tr>\n",
       "    <tr>\n",
       "      <th>1</th>\n",
       "      <td>8</td>\n",
       "      <td>Female</td>\n",
       "      <td>24.0</td>\n",
       "      <td>Bangalore</td>\n",
       "      <td>Student</td>\n",
       "      <td>2.0</td>\n",
       "      <td>0.0</td>\n",
       "      <td>5.90</td>\n",
       "      <td>5.0</td>\n",
       "      <td>0.0</td>\n",
       "      <td>'5-6 hours'</td>\n",
       "      <td>Moderate</td>\n",
       "      <td>BSc</td>\n",
       "      <td>No</td>\n",
       "      <td>3.0</td>\n",
       "      <td>2.0</td>\n",
       "      <td>Yes</td>\n",
       "      <td>0</td>\n",
       "    </tr>\n",
       "  </tbody>\n",
       "</table>\n",
       "</div>"
      ],
      "text/plain": [
       "   id  Gender   Age           City Profession  Academic Pressure  \\\n",
       "0   2    Male  33.0  Visakhapatnam    Student                5.0   \n",
       "1   8  Female  24.0      Bangalore    Student                2.0   \n",
       "\n",
       "   Work Pressure  CGPA  Study Satisfaction  Job Satisfaction Sleep Duration  \\\n",
       "0            0.0  8.97                 2.0               0.0    '5-6 hours'   \n",
       "1            0.0  5.90                 5.0               0.0    '5-6 hours'   \n",
       "\n",
       "  Dietary Habits   Degree Have you ever had suicidal thoughts ?  \\\n",
       "0        Healthy  B.Pharm                                   Yes   \n",
       "1       Moderate      BSc                                    No   \n",
       "\n",
       "   Work/Study Hours Financial Stress Family History of Mental Illness  \\\n",
       "0               3.0              1.0                               No   \n",
       "1               3.0              2.0                              Yes   \n",
       "\n",
       "   Depression  \n",
       "0           1  \n",
       "1           0  "
      ]
     },
     "execution_count": 2,
     "metadata": {},
     "output_type": "execute_result"
    }
   ],
   "source": [
    "\n",
    "df = pd.read_csv('student_depression_dataset.csv')\n",
    "df.head(2)"
   ]
  },
  {
   "cell_type": "code",
   "execution_count": 3,
   "id": "37673e93",
   "metadata": {},
   "outputs": [
    {
     "name": "stdout",
     "output_type": "stream",
     "text": [
      "<class 'pandas.core.frame.DataFrame'>\n",
      "RangeIndex: 27901 entries, 0 to 27900\n",
      "Data columns (total 18 columns):\n",
      " #   Column                                 Non-Null Count  Dtype  \n",
      "---  ------                                 --------------  -----  \n",
      " 0   id                                     27901 non-null  int64  \n",
      " 1   Gender                                 27901 non-null  object \n",
      " 2   Age                                    27901 non-null  float64\n",
      " 3   City                                   27901 non-null  object \n",
      " 4   Profession                             27901 non-null  object \n",
      " 5   Academic Pressure                      27901 non-null  float64\n",
      " 6   Work Pressure                          27901 non-null  float64\n",
      " 7   CGPA                                   27901 non-null  float64\n",
      " 8   Study Satisfaction                     27901 non-null  float64\n",
      " 9   Job Satisfaction                       27901 non-null  float64\n",
      " 10  Sleep Duration                         27901 non-null  object \n",
      " 11  Dietary Habits                         27901 non-null  object \n",
      " 12  Degree                                 27901 non-null  object \n",
      " 13  Have you ever had suicidal thoughts ?  27901 non-null  object \n",
      " 14  Work/Study Hours                       27901 non-null  float64\n",
      " 15  Financial Stress                       27901 non-null  object \n",
      " 16  Family History of Mental Illness       27901 non-null  object \n",
      " 17  Depression                             27901 non-null  int64  \n",
      "dtypes: float64(7), int64(2), object(9)\n",
      "memory usage: 3.8+ MB\n"
     ]
    }
   ],
   "source": [
    "\n",
    "df.info()"
   ]
  },
  {
   "cell_type": "code",
   "execution_count": 4,
   "id": "da69c949",
   "metadata": {},
   "outputs": [
    {
     "data": {
      "text/plain": [
       "id                                       0\n",
       "Gender                                   0\n",
       "Age                                      0\n",
       "City                                     0\n",
       "Profession                               0\n",
       "Academic Pressure                        0\n",
       "Work Pressure                            0\n",
       "CGPA                                     0\n",
       "Study Satisfaction                       0\n",
       "Job Satisfaction                         0\n",
       "Sleep Duration                           0\n",
       "Dietary Habits                           0\n",
       "Degree                                   0\n",
       "Have you ever had suicidal thoughts ?    0\n",
       "Work/Study Hours                         0\n",
       "Financial Stress                         0\n",
       "Family History of Mental Illness         0\n",
       "Depression                               0\n",
       "dtype: int64"
      ]
     },
     "execution_count": 4,
     "metadata": {},
     "output_type": "execute_result"
    }
   ],
   "source": [
    "df.isnull().sum()"
   ]
  },
  {
   "cell_type": "code",
   "execution_count": 6,
   "id": "578b752e",
   "metadata": {},
   "outputs": [
    {
     "data": {
      "text/plain": [
       "Depression\n",
       "1    16336\n",
       "0    11565\n",
       "Name: count, dtype: int64"
      ]
     },
     "execution_count": 6,
     "metadata": {},
     "output_type": "execute_result"
    }
   ],
   "source": [
    "df['Depression'].value_counts()"
   ]
  },
  {
   "cell_type": "code",
   "execution_count": 60,
   "id": "0605f927",
   "metadata": {},
   "outputs": [],
   "source": [
    "df.drop(['id'],axis=1,inplace=True)"
   ]
  },
  {
   "cell_type": "code",
   "execution_count": 61,
   "id": "6d8ced73",
   "metadata": {},
   "outputs": [
    {
     "data": {
      "text/plain": [
       "array(['Male', 'Female'], dtype=object)"
      ]
     },
     "execution_count": 61,
     "metadata": {},
     "output_type": "execute_result"
    }
   ],
   "source": [
    "df['Gender'].unique()"
   ]
  },
  {
   "cell_type": "code",
   "execution_count": 62,
   "id": "4b8986f3",
   "metadata": {},
   "outputs": [
    {
     "data": {
      "text/plain": [
       "array([33., 24., 31., 28., 25., 29., 30., 27., 19., 20., 23., 18., 21.,\n",
       "       22., 34., 32., 26., 39., 35., 42., 36., 58., 49., 38., 51., 44.,\n",
       "       43., 46., 59., 54., 48., 56., 37., 41.])"
      ]
     },
     "execution_count": 62,
     "metadata": {},
     "output_type": "execute_result"
    }
   ],
   "source": [
    "df['Age'].unique()"
   ]
  },
  {
   "cell_type": "code",
   "execution_count": 63,
   "id": "f7edcbe6",
   "metadata": {},
   "outputs": [],
   "source": [
    "df['Age'] = df['Age'].astype('int')"
   ]
  },
  {
   "cell_type": "code",
   "execution_count": 64,
   "id": "697392b0",
   "metadata": {},
   "outputs": [
    {
     "data": {
      "text/plain": [
       "array(['Visakhapatnam', 'Bangalore', 'Srinagar', 'Varanasi', 'Jaipur',\n",
       "       'Pune', 'Thane', 'Chennai', 'Nagpur', 'Nashik', 'Vadodara',\n",
       "       'Kalyan', 'Rajkot', 'Ahmedabad', 'Kolkata', 'Mumbai', 'Lucknow',\n",
       "       'Indore', 'Surat', 'Ludhiana', 'Bhopal', 'Meerut', 'Agra',\n",
       "       'Ghaziabad', 'Hyderabad', 'Vasai-Virar', 'Kanpur', 'Patna',\n",
       "       'Faridabad', 'Delhi', 'Saanvi', 'M.Tech', 'Bhavna', \"'Less Delhi'\",\n",
       "       'City', '3.0', \"'Less than 5 Kalyan'\", 'Mira', 'Harsha', 'Vaanya',\n",
       "       'Gaurav', 'Harsh', 'Reyansh', 'Kibara', 'Rashi', 'ME', 'M.Com',\n",
       "       'Nalyan', 'Mihir', 'Nalini', 'Nandini', 'Khaziabad'], dtype=object)"
      ]
     },
     "execution_count": 64,
     "metadata": {},
     "output_type": "execute_result"
    }
   ],
   "source": [
    "df['City'].unique()"
   ]
  },
  {
   "cell_type": "code",
   "execution_count": 65,
   "id": "c7900b89",
   "metadata": {},
   "outputs": [
    {
     "data": {
      "image/png": "[encoded data removed]",
      "text/plain": [
       "<Figure size 1500x500 with 1 Axes>"
      ]
     },
     "metadata": {},
     "output_type": "display_data"
    }
   ],
   "source": [
    "plt.figure(figsize=(15,5))\n",
    "sns.barplot(x='City',y='Academic Pressure',data=df[:20])\n",
    "plt.xlabel('City',size=22)\n",
    "plt.ylabel('Academic Pressure',size=22)\n",
    "plt.show()"
   ]
  },
  {
   "cell_type": "code",
   "execution_count": 66,
   "id": "5671b9ed",
   "metadata": {},
   "outputs": [
    {
     "data": {
      "text/plain": [
       "City\n",
       "Kalyan           1570\n",
       "Srinagar         1372\n",
       "Hyderabad        1340\n",
       "Vasai-Virar      1290\n",
       "Lucknow          1155\n",
       "Thane            1139\n",
       "Ludhiana         1111\n",
       "Agra             1094\n",
       "Surat            1078\n",
       "Kolkata          1066\n",
       "Jaipur           1036\n",
       "Patna            1007\n",
       "Visakhapatnam     969\n",
       "Pune              968\n",
       "Ahmedabad         951\n",
       "Bhopal            934\n",
       "Chennai           885\n",
       "Meerut            825\n",
       "Rajkot            816\n",
       "Delhi             768\n",
       "Bangalore         767\n",
       "Ghaziabad         745\n",
       "Mumbai            699\n",
       "Vadodara          694\n",
       "Varanasi          685\n",
       "Nagpur            651\n",
       "Indore            643\n",
       "Kanpur            609\n",
       "Nashik            547\n",
       "Faridabad         461\n",
       "Saanvi              2\n",
       "Bhavna              2\n",
       "City                2\n",
       "Harsha              2\n",
       "Kibara              1\n",
       "Nandini             1\n",
       "Nalini              1\n",
       "Mihir               1\n",
       "Nalyan              1\n",
       "M.Com               1\n",
       "Name: count, dtype: int64"
      ]
     },
     "execution_count": 66,
     "metadata": {},
     "output_type": "execute_result"
    }
   ],
   "source": [
    "df['City'].value_counts()[:40]"
   ]
  },
  {
   "cell_type": "code",
   "execution_count": 67,
   "id": "dae62d57",
   "metadata": {},
   "outputs": [
    {
     "data": {
      "text/plain": [
       "array([0., 5., 2.])"
      ]
     },
     "execution_count": 67,
     "metadata": {},
     "output_type": "execute_result"
    }
   ],
   "source": [
    "df['Work Pressure'].unique()"
   ]
  },
  {
   "cell_type": "code",
   "execution_count": 68,
   "id": "7cc2180b",
   "metadata": {},
   "outputs": [
    {
     "data": {
      "text/plain": [
       "Work Pressure\n",
       "0.0    27898\n",
       "5.0        2\n",
       "2.0        1\n",
       "Name: count, dtype: int64"
      ]
     },
     "execution_count": 68,
     "metadata": {},
     "output_type": "execute_result"
    }
   ],
   "source": [
    "df['Work Pressure'].value_counts()"
   ]
  },
  {
   "cell_type": "code",
   "execution_count": 69,
   "id": "9d55ef44",
   "metadata": {},
   "outputs": [
    {
     "data": {
      "text/plain": [
       "array([ 8.97  ,  5.9   ,  7.03  ,  5.59  ,  8.13  ,  5.7   ,  9.54  ,\n",
       "        8.04  ,  9.79  ,  8.38  ,  6.1   ,  7.04  ,  8.52  ,  5.64  ,\n",
       "        8.58  ,  6.51  ,  7.25  ,  7.83  ,  9.93  ,  8.74  ,  6.73  ,\n",
       "        5.57  ,  8.59  ,  7.1   ,  6.08  ,  5.74  ,  9.86  ,  6.7   ,\n",
       "        6.21  ,  5.87  ,  6.37  ,  9.72  ,  5.88  ,  9.56  ,  6.99  ,\n",
       "        5.24  ,  9.21  ,  7.85  ,  6.95  ,  5.86  ,  7.92  ,  9.66  ,\n",
       "        8.94  ,  9.71  ,  7.87  ,  5.6   ,  7.9   ,  5.46  ,  6.79  ,\n",
       "        8.7   ,  7.38  ,  8.5   ,  7.09  ,  9.82  ,  8.89  ,  7.94  ,\n",
       "        9.11  ,  6.75  ,  7.53  ,  9.49  ,  9.01  ,  7.64  ,  5.27  ,\n",
       "        6.    ,  9.44  ,  5.75  ,  7.51  ,  9.05  ,  6.38  ,  8.95  ,\n",
       "        9.88  ,  5.32  ,  6.27  ,  7.7   ,  8.1   ,  9.59  ,  8.96  ,\n",
       "        5.51  ,  7.43  ,  8.79  ,  9.95  ,  5.37  ,  6.86  ,  8.32  ,\n",
       "        9.74  ,  5.66  ,  7.48  ,  8.23  ,  8.81  ,  6.03  ,  5.56  ,\n",
       "        5.68  ,  5.14  ,  7.61  ,  6.17  ,  8.17  ,  9.87  ,  8.75  ,\n",
       "        6.16  ,  9.5   ,  7.99  ,  5.67  ,  8.92  ,  6.19  ,  5.76  ,\n",
       "        6.25  ,  5.11  ,  5.58  ,  5.65  ,  9.89  ,  8.03  ,  6.61  ,\n",
       "        9.41  ,  8.64  ,  7.21  ,  8.28  ,  6.04  ,  9.13  ,  8.08  ,\n",
       "        9.96  ,  5.12  ,  8.35  ,  7.07  ,  9.6   ,  9.24  ,  8.54  ,\n",
       "        8.78  ,  8.93  ,  8.91  ,  9.04  ,  6.83  ,  5.85  ,  7.74  ,\n",
       "        6.41  ,  8.9   ,  7.75  ,  7.88  ,  5.42  ,  7.52  ,  7.68  ,\n",
       "        8.4   ,  9.39  ,  6.84  ,  5.99  ,  8.62  ,  8.53  ,  7.47  ,\n",
       "        6.78  ,  6.42  ,  9.92  ,  8.39  ,  5.89  ,  7.22  ,  6.81  ,\n",
       "        9.02  ,  9.97  ,  9.63  ,  9.67  ,  5.41  ,  7.27  ,  6.05  ,\n",
       "        6.85  ,  9.33  ,  5.81  ,  6.53  ,  5.98  ,  6.02  ,  6.74  ,\n",
       "        5.26  ,  7.72  ,  7.39  ,  8.43  ,  9.34  ,  5.44  ,  5.82  ,\n",
       "        5.72  ,  8.19  ,  8.44  ,  8.98  ,  9.37  ,  5.8   ,  7.28  ,\n",
       "        7.6   ,  7.91  ,  9.17  ,  7.46  ,  9.43  ,  9.91  ,  9.36  ,\n",
       "        5.16  ,  7.08  ,  9.26  ,  8.83  , 10.    ,  7.8   ,  9.46  ,\n",
       "        6.63  ,  7.24  ,  6.47  ,  7.77  ,  5.06  ,  7.17  ,  8.24  ,\n",
       "        6.88  ,  9.03  ,  5.08  ,  5.45  ,  8.46  ,  9.19  ,  6.36  ,\n",
       "        8.73  ,  7.11  ,  9.12  ,  9.4   ,  8.11  ,  9.98  ,  5.55  ,\n",
       "        8.61  ,  8.14  ,  6.89  ,  9.84  ,  5.48  ,  8.21  ,  7.82  ,\n",
       "        8.55  ,  5.79  ,  8.77  ,  8.29  ,  6.92  ,  7.37  ,  9.7   ,\n",
       "        6.26  ,  7.26  ,  7.5   ,  6.82  ,  7.15  ,  5.77  ,  5.91  ,\n",
       "        5.1   ,  7.71  ,  9.06  ,  5.71  ,  5.84  ,  9.42  ,  6.23  ,\n",
       "        6.29  ,  5.25  ,  9.69  ,  9.9   ,  6.39  ,  8.09  ,  5.83  ,\n",
       "        5.47  ,  6.56  ,  8.71  ,  9.94  ,  6.69  ,  5.52  ,  7.3   ,\n",
       "        7.02  ,  6.33  ,  8.07  ,  8.37  ,  8.    ,  7.79  ,  8.65  ,\n",
       "        6.28  ,  7.35  ,  8.69  ,  7.12  ,  7.32  ,  7.13  ,  5.97  ,\n",
       "        5.09  ,  6.91  ,  6.76  ,  6.52  ,  7.45  ,  8.56  ,  6.5   ,\n",
       "        8.63  ,  8.27  ,  8.49  ,  6.59  ,  9.29  ,  5.3   ,  7.06  ,\n",
       "        5.38  ,  6.65  ,  9.16  ,  8.01  ,  8.25  ,  8.02  ,  8.47  ,\n",
       "        7.34  ,  8.88  ,  7.14  ,  8.42  ,  5.17  ,  9.1   ,  7.49  ,\n",
       "        9.85  ,  7.42  ,  9.31  ,  6.35  ,  7.    ,  5.39  ,  5.61  ,\n",
       "        9.78  ,  9.25  ,  5.69  ,  9.47  ,  8.16  ,  7.23  ,  6.46  ,\n",
       "        0.    ,  8.26  ,  6.32  ,  6.77  ,  8.85  ,  5.03  ,  7.65  ,\n",
       "        5.78  ,  6.24  ,  5.35  ,  6.06  ,  7.78  ,  6.64  ,  7.0625,\n",
       "        6.98  ,  6.44  ,  6.09  ])"
      ]
     },
     "execution_count": 69,
     "metadata": {},
     "output_type": "execute_result"
    }
   ],
   "source": [
    "df['CGPA'].unique()"
   ]
  },
  {
   "cell_type": "code",
   "execution_count": 70,
   "id": "bb1170d3",
   "metadata": {},
   "outputs": [
    {
     "data": {
      "text/plain": [
       "CGPA\n",
       "8.04    821\n",
       "9.96    425\n",
       "5.74    410\n",
       "8.95    371\n",
       "9.21    343\n",
       "       ... \n",
       "7.65      1\n",
       "6.77      1\n",
       "8.26      1\n",
       "7.23      1\n",
       "6.09      1\n",
       "Name: count, Length: 332, dtype: int64"
      ]
     },
     "execution_count": 70,
     "metadata": {},
     "output_type": "execute_result"
    }
   ],
   "source": [
    "df['CGPA'].value_counts()"
   ]
  },
  {
   "cell_type": "code",
   "execution_count": 71,
   "id": "b68ec9b2",
   "metadata": {},
   "outputs": [
    {
     "data": {
      "image/png": "[encoded data removed]",
      "text/plain": [
       "<Figure size 640x480 with 1 Axes>"
      ]
     },
     "metadata": {},
     "output_type": "display_data"
    }
   ],
   "source": [
    "sns.countplot(x='Work Pressure',data=df)\n",
    "plt.xlabel(\"Work Pressure\",size=22)\n",
    "plt.ylabel(\"Count\",size=22)\n",
    "plt.show()"
   ]
  },
  {
   "cell_type": "code",
   "execution_count": 72,
   "id": "25d03567",
   "metadata": {},
   "outputs": [
    {
     "data": {
      "text/plain": [
       "array(['Student', \"'Civil Engineer'\", 'Architect', \"'UX/UI Designer'\",\n",
       "       \"'Digital Marketer'\", \"'Content Writer'\",\n",
       "       \"'Educational Consultant'\", 'Teacher', 'Manager', 'Chef', 'Doctor',\n",
       "       'Lawyer', 'Entrepreneur', 'Pharmacist'], dtype=object)"
      ]
     },
     "execution_count": 72,
     "metadata": {},
     "output_type": "execute_result"
    }
   ],
   "source": [
    "df['Profession'].unique()\n"
   ]
  },
  {
   "cell_type": "code",
   "execution_count": 73,
   "id": "e3b5af44",
   "metadata": {},
   "outputs": [],
   "source": [
    "def clean_category(cat):\n",
    "    return cat.strip(\"'\") \n",
    "\n",
    "df['Profession'] = df['Profession'].apply(clean_category)"
   ]
  },
  {
   "cell_type": "code",
   "execution_count": 74,
   "id": "2e8d87fb",
   "metadata": {},
   "outputs": [
    {
     "data": {
      "text/plain": [
       "array([2., 5., 3., 4., 1., 0.])"
      ]
     },
     "execution_count": 74,
     "metadata": {},
     "output_type": "execute_result"
    }
   ],
   "source": [
    "df['Study Satisfaction'].unique()"
   ]
  },
  {
   "cell_type": "code",
   "execution_count": 75,
   "id": "5c0d0621",
   "metadata": {},
   "outputs": [
    {
     "data": {
      "text/plain": [
       "Study Satisfaction\n",
       "4.0    6359\n",
       "2.0    5838\n",
       "3.0    5821\n",
       "1.0    5451\n",
       "5.0    4422\n",
       "0.0      10\n",
       "Name: count, dtype: int64"
      ]
     },
     "execution_count": 75,
     "metadata": {},
     "output_type": "execute_result"
    }
   ],
   "source": [
    "\n",
    "df['Study Satisfaction'].value_counts()"
   ]
  },
  {
   "cell_type": "code",
   "execution_count": 76,
   "id": "a87542b6",
   "metadata": {},
   "outputs": [
    {
     "data": {
      "text/plain": [
       "array([0., 3., 4., 2., 1.])"
      ]
     },
     "execution_count": 76,
     "metadata": {},
     "output_type": "execute_result"
    }
   ],
   "source": [
    "df['Job Satisfaction'].unique()"
   ]
  },
  {
   "cell_type": "code",
   "execution_count": 77,
   "id": "6ca00cb3",
   "metadata": {},
   "outputs": [
    {
     "data": {
      "text/plain": [
       "Job Satisfaction\n",
       "0.0    27893\n",
       "2.0        3\n",
       "4.0        2\n",
       "1.0        2\n",
       "3.0        1\n",
       "Name: count, dtype: int64"
      ]
     },
     "execution_count": 77,
     "metadata": {},
     "output_type": "execute_result"
    }
   ],
   "source": [
    "\n",
    "df['Job Satisfaction'].value_counts()"
   ]
  },
  {
   "cell_type": "code",
   "execution_count": 78,
   "id": "8825bbf8",
   "metadata": {},
   "outputs": [],
   "source": [
    "df.drop(['Job Satisfaction'],axis=1,inplace=True)"
   ]
  },
  {
   "cell_type": "code",
   "execution_count": 79,
   "id": "c3a922fd",
   "metadata": {},
   "outputs": [
    {
     "data": {
      "text/plain": [
       "array([\"'5-6 hours'\", \"'Less than 5 hours'\", \"'7-8 hours'\",\n",
       "       \"'More than 8 hours'\", 'Others'], dtype=object)"
      ]
     },
     "execution_count": 79,
     "metadata": {},
     "output_type": "execute_result"
    }
   ],
   "source": [
    "\n",
    "df['Sleep Duration'].unique()"
   ]
  },
  {
   "cell_type": "code",
   "execution_count": 80,
   "id": "254120b9",
   "metadata": {},
   "outputs": [
    {
     "data": {
      "text/plain": [
       "Sleep Duration\n",
       "'Less than 5 hours'    8310\n",
       "'7-8 hours'            7346\n",
       "'5-6 hours'            6183\n",
       "'More than 8 hours'    6044\n",
       "Others                   18\n",
       "Name: count, dtype: int64"
      ]
     },
     "execution_count": 80,
     "metadata": {},
     "output_type": "execute_result"
    }
   ],
   "source": [
    "df['Sleep Duration'].value_counts()"
   ]
  },
  {
   "cell_type": "code",
   "execution_count": 81,
   "id": "a95725c4",
   "metadata": {},
   "outputs": [],
   "source": [
    "def clean_category(cat):\n",
    "    return cat.strip(\"'\") \n",
    "\n",
    "df['Sleep Duration'] = df['Sleep Duration'].apply(clean_category)"
   ]
  },
  {
   "cell_type": "code",
   "execution_count": 82,
   "id": "5d18b2fc",
   "metadata": {},
   "outputs": [
    {
     "data": {
      "text/plain": [
       "array(['Healthy', 'Moderate', 'Unhealthy', 'Others'], dtype=object)"
      ]
     },
     "execution_count": 82,
     "metadata": {},
     "output_type": "execute_result"
    }
   ],
   "source": [
    "df['Dietary Habits'].unique()"
   ]
  },
  {
   "cell_type": "code",
   "execution_count": 83,
   "id": "685eba2b",
   "metadata": {},
   "outputs": [
    {
     "data": {
      "text/plain": [
       "Dietary Habits\n",
       "Unhealthy    10317\n",
       "Moderate      9921\n",
       "Healthy       7651\n",
       "Others          12\n",
       "Name: count, dtype: int64"
      ]
     },
     "execution_count": 83,
     "metadata": {},
     "output_type": "execute_result"
    }
   ],
   "source": [
    "\n",
    "df['Dietary Habits'].value_counts()"
   ]
  },
  {
   "cell_type": "code",
   "execution_count": 84,
   "id": "ebb22172",
   "metadata": {},
   "outputs": [
    {
     "data": {
      "text/plain": [
       "array(['B.Pharm', 'BSc', 'BA', 'BCA', 'M.Tech', 'PhD', \"'Class 12'\",\n",
       "       'B.Ed', 'LLB', 'BE', 'M.Ed', 'MSc', 'BHM', 'M.Pharm', 'MCA', 'MA',\n",
       "       'B.Com', 'MD', 'MBA', 'MBBS', 'M.Com', 'B.Arch', 'LLM', 'B.Tech',\n",
       "       'BBA', 'ME', 'MHM', 'Others'], dtype=object)"
      ]
     },
     "execution_count": 84,
     "metadata": {},
     "output_type": "execute_result"
    }
   ],
   "source": [
    "df['Degree'].unique()"
   ]
  },
  {
   "cell_type": "code",
   "execution_count": 85,
   "id": "9ee43728",
   "metadata": {},
   "outputs": [
    {
     "data": {
      "text/plain": [
       "Degree\n",
       "'Class 12'    6080\n",
       "B.Ed          1867\n",
       "B.Com         1506\n",
       "B.Arch        1478\n",
       "BCA           1433\n",
       "MSc           1190\n",
       "B.Tech        1152\n",
       "MCA           1044\n",
       "M.Tech        1022\n",
       "BHM            925\n",
       "BSc            888\n",
       "M.Ed           821\n",
       "B.Pharm        810\n",
       "M.Com          734\n",
       "MBBS           696\n",
       "BBA            696\n",
       "LLB            671\n",
       "BE             613\n",
       "BA             600\n",
       "M.Pharm        582\n",
       "MD             572\n",
       "MBA            562\n",
       "MA             544\n",
       "PhD            522\n",
       "LLM            482\n",
       "MHM            191\n",
       "ME             185\n",
       "Others          35\n",
       "Name: count, dtype: int64"
      ]
     },
     "execution_count": 85,
     "metadata": {},
     "output_type": "execute_result"
    }
   ],
   "source": [
    "\n",
    "df['Degree'].value_counts()"
   ]
  },
  {
   "cell_type": "code",
   "execution_count": 86,
   "id": "db188db4",
   "metadata": {},
   "outputs": [
    {
     "data": {
      "text/html": [
       "<div>\n",
       "<style scoped>\n",
       "    .dataframe tbody tr th:only-of-type {\n",
       "        vertical-align: middle;\n",
       "    }\n",
       "\n",
       "    .dataframe tbody tr th {\n",
       "        vertical-align: top;\n",
       "    }\n",
       "\n",
       "    .dataframe thead th {\n",
       "        text-align: right;\n",
       "    }\n",
       "</style>\n",
       "<table border=\"1\" class=\"dataframe\">\n",
       "  <thead>\n",
       "    <tr style=\"text-align: right;\">\n",
       "      <th></th>\n",
       "      <th>Gender</th>\n",
       "      <th>Age</th>\n",
       "      <th>City</th>\n",
       "      <th>Profession</th>\n",
       "      <th>Academic Pressure</th>\n",
       "      <th>Work Pressure</th>\n",
       "      <th>CGPA</th>\n",
       "      <th>Study Satisfaction</th>\n",
       "      <th>Sleep Duration</th>\n",
       "      <th>Dietary Habits</th>\n",
       "      <th>Degree</th>\n",
       "      <th>Have you ever had suicidal thoughts ?</th>\n",
       "      <th>Work/Study Hours</th>\n",
       "      <th>Financial Stress</th>\n",
       "      <th>Family History of Mental Illness</th>\n",
       "      <th>Depression</th>\n",
       "    </tr>\n",
       "  </thead>\n",
       "  <tbody>\n",
       "    <tr>\n",
       "      <th>0</th>\n",
       "      <td>Male</td>\n",
       "      <td>33</td>\n",
       "      <td>Visakhapatnam</td>\n",
       "      <td>Student</td>\n",
       "      <td>5.0</td>\n",
       "      <td>0.0</td>\n",
       "      <td>8.97</td>\n",
       "      <td>2.0</td>\n",
       "      <td>5-6 hours</td>\n",
       "      <td>Healthy</td>\n",
       "      <td>B.Pharm</td>\n",
       "      <td>Yes</td>\n",
       "      <td>3.0</td>\n",
       "      <td>1.0</td>\n",
       "      <td>No</td>\n",
       "      <td>1</td>\n",
       "    </tr>\n",
       "    <tr>\n",
       "      <th>1</th>\n",
       "      <td>Female</td>\n",
       "      <td>24</td>\n",
       "      <td>Bangalore</td>\n",
       "      <td>Student</td>\n",
       "      <td>2.0</td>\n",
       "      <td>0.0</td>\n",
       "      <td>5.90</td>\n",
       "      <td>5.0</td>\n",
       "      <td>5-6 hours</td>\n",
       "      <td>Moderate</td>\n",
       "      <td>BSc</td>\n",
       "      <td>No</td>\n",
       "      <td>3.0</td>\n",
       "      <td>2.0</td>\n",
       "      <td>Yes</td>\n",
       "      <td>0</td>\n",
       "    </tr>\n",
       "    <tr>\n",
       "      <th>2</th>\n",
       "      <td>Male</td>\n",
       "      <td>31</td>\n",
       "      <td>Srinagar</td>\n",
       "      <td>Student</td>\n",
       "      <td>3.0</td>\n",
       "      <td>0.0</td>\n",
       "      <td>7.03</td>\n",
       "      <td>5.0</td>\n",
       "      <td>Less than 5 hours</td>\n",
       "      <td>Healthy</td>\n",
       "      <td>BA</td>\n",
       "      <td>No</td>\n",
       "      <td>9.0</td>\n",
       "      <td>1.0</td>\n",
       "      <td>Yes</td>\n",
       "      <td>0</td>\n",
       "    </tr>\n",
       "    <tr>\n",
       "      <th>3</th>\n",
       "      <td>Female</td>\n",
       "      <td>28</td>\n",
       "      <td>Varanasi</td>\n",
       "      <td>Student</td>\n",
       "      <td>3.0</td>\n",
       "      <td>0.0</td>\n",
       "      <td>5.59</td>\n",
       "      <td>2.0</td>\n",
       "      <td>7-8 hours</td>\n",
       "      <td>Moderate</td>\n",
       "      <td>BCA</td>\n",
       "      <td>Yes</td>\n",
       "      <td>4.0</td>\n",
       "      <td>5.0</td>\n",
       "      <td>Yes</td>\n",
       "      <td>1</td>\n",
       "    </tr>\n",
       "    <tr>\n",
       "      <th>4</th>\n",
       "      <td>Female</td>\n",
       "      <td>25</td>\n",
       "      <td>Jaipur</td>\n",
       "      <td>Student</td>\n",
       "      <td>4.0</td>\n",
       "      <td>0.0</td>\n",
       "      <td>8.13</td>\n",
       "      <td>3.0</td>\n",
       "      <td>5-6 hours</td>\n",
       "      <td>Moderate</td>\n",
       "      <td>M.Tech</td>\n",
       "      <td>Yes</td>\n",
       "      <td>1.0</td>\n",
       "      <td>1.0</td>\n",
       "      <td>No</td>\n",
       "      <td>0</td>\n",
       "    </tr>\n",
       "  </tbody>\n",
       "</table>\n",
       "</div>"
      ],
      "text/plain": [
       "   Gender  Age           City Profession  Academic Pressure  Work Pressure  \\\n",
       "0    Male   33  Visakhapatnam    Student                5.0            0.0   \n",
       "1  Female   24      Bangalore    Student                2.0            0.0   \n",
       "2    Male   31       Srinagar    Student                3.0            0.0   \n",
       "3  Female   28       Varanasi    Student                3.0            0.0   \n",
       "4  Female   25         Jaipur    Student                4.0            0.0   \n",
       "\n",
       "   CGPA  Study Satisfaction     Sleep Duration Dietary Habits   Degree  \\\n",
       "0  8.97                 2.0          5-6 hours        Healthy  B.Pharm   \n",
       "1  5.90                 5.0          5-6 hours       Moderate      BSc   \n",
       "2  7.03                 5.0  Less than 5 hours        Healthy       BA   \n",
       "3  5.59                 2.0          7-8 hours       Moderate      BCA   \n",
       "4  8.13                 3.0          5-6 hours       Moderate   M.Tech   \n",
       "\n",
       "  Have you ever had suicidal thoughts ?  Work/Study Hours Financial Stress  \\\n",
       "0                                   Yes               3.0              1.0   \n",
       "1                                    No               3.0              2.0   \n",
       "2                                    No               9.0              1.0   \n",
       "3                                   Yes               4.0              5.0   \n",
       "4                                   Yes               1.0              1.0   \n",
       "\n",
       "  Family History of Mental Illness  Depression  \n",
       "0                               No           1  \n",
       "1                              Yes           0  \n",
       "2                              Yes           0  \n",
       "3                              Yes           1  \n",
       "4                               No           0  "
      ]
     },
     "execution_count": 86,
     "metadata": {},
     "output_type": "execute_result"
    }
   ],
   "source": [
    "\n",
    "df.head()"
   ]
  },
  {
   "cell_type": "code",
   "execution_count": 87,
   "id": "abc5596c",
   "metadata": {},
   "outputs": [
    {
     "data": {
      "text/plain": [
       "array(['Yes', 'No'], dtype=object)"
      ]
     },
     "execution_count": 87,
     "metadata": {},
     "output_type": "execute_result"
    }
   ],
   "source": [
    "\n",
    "df['Have you ever had suicidal thoughts ?'].unique()"
   ]
  },
  {
   "cell_type": "code",
   "execution_count": 88,
   "id": "64d5b01c",
   "metadata": {},
   "outputs": [
    {
     "data": {
      "text/plain": [
       "array([ 3.,  9.,  4.,  1.,  0., 12.,  2., 11., 10.,  6.,  8.,  5.,  7.])"
      ]
     },
     "execution_count": 88,
     "metadata": {},
     "output_type": "execute_result"
    }
   ],
   "source": [
    "df['Work/Study Hours'].unique()"
   ]
  },
  {
   "cell_type": "code",
   "execution_count": 89,
   "id": "66fc3f9d",
   "metadata": {},
   "outputs": [],
   "source": [
    "df['Work/Study Hours'] = df['Work/Study Hours'].astype('int')"
   ]
  },
  {
   "cell_type": "code",
   "execution_count": 90,
   "id": "63795990",
   "metadata": {},
   "outputs": [
    {
     "data": {
      "text/plain": [
       "array(['1.0', '2.0', '5.0', '3.0', '4.0', '?'], dtype=object)"
      ]
     },
     "execution_count": 90,
     "metadata": {},
     "output_type": "execute_result"
    }
   ],
   "source": [
    "df['Financial Stress'].unique()"
   ]
  },
  {
   "cell_type": "code",
   "execution_count": 91,
   "id": "b5fd7134",
   "metadata": {},
   "outputs": [
    {
     "data": {
      "text/plain": [
       "Financial Stress\n",
       "5.0    6715\n",
       "4.0    5775\n",
       "3.0    5226\n",
       "1.0    5121\n",
       "2.0    5061\n",
       "?         3\n",
       "Name: count, dtype: int64"
      ]
     },
     "execution_count": 91,
     "metadata": {},
     "output_type": "execute_result"
    }
   ],
   "source": [
    "df['Financial Stress'].value_counts()"
   ]
  },
  {
   "cell_type": "code",
   "execution_count": 92,
   "id": "7cd6a69a",
   "metadata": {},
   "outputs": [],
   "source": [
    "\n",
    "df['Financial Stress'] = df['Financial Stress'].str.replace(\"?\",\"2.0\")"
   ]
  },
  {
   "cell_type": "code",
   "execution_count": 93,
   "id": "cd979d0f",
   "metadata": {},
   "outputs": [
    {
     "data": {
      "text/plain": [
       "array(['No', 'Yes'], dtype=object)"
      ]
     },
     "execution_count": 93,
     "metadata": {},
     "output_type": "execute_result"
    }
   ],
   "source": [
    "df['Family History of Mental Illness'].unique()"
   ]
  },
  {
   "cell_type": "code",
   "execution_count": 94,
   "id": "89556db9",
   "metadata": {},
   "outputs": [
    {
     "data": {
      "text/plain": [
       "Family History of Mental Illness\n",
       "No     14398\n",
       "Yes    13503\n",
       "Name: count, dtype: int64"
      ]
     },
     "execution_count": 94,
     "metadata": {},
     "output_type": "execute_result"
    }
   ],
   "source": [
    "df['Family History of Mental Illness'].value_counts()"
   ]
  },
  {
   "cell_type": "code",
   "execution_count": 95,
   "id": "d4ebf3b0",
   "metadata": {},
   "outputs": [
    {
     "data": {
      "image/png": "[encoded data removed]",
      "text/plain": [
       "<Figure size 640x480 with 1 Axes>"
      ]
     },
     "metadata": {},
     "output_type": "display_data"
    }
   ],
   "source": [
    "sns.barplot(x='Family History of Mental Illness',y='Depression',data=df)\n",
    "plt.show()"
   ]
  },
  {
   "cell_type": "code",
   "execution_count": 96,
   "id": "99a28d9a",
   "metadata": {},
   "outputs": [],
   "source": [
    "degree = df['Degree'].value_counts()\n",
    "degree = degree[degree>500]"
   ]
  },
  {
   "cell_type": "code",
   "execution_count": 97,
   "id": "b066d829",
   "metadata": {},
   "outputs": [],
   "source": [
    "def function(text):\n",
    "    if text in degree:\n",
    "        return text\n",
    "    else:\n",
    "        return \"Others Degree\"\n",
    "    \n",
    "df['Degree'] = df['Degree'].apply(function)"
   ]
  },
  {
   "cell_type": "code",
   "execution_count": 98,
   "id": "ba546f57",
   "metadata": {},
   "outputs": [],
   "source": [
    "city = df['City'].value_counts()\n",
    "city = city[city>500]"
   ]
  },
  {
   "cell_type": "code",
   "execution_count": 99,
   "id": "6ccc9527",
   "metadata": {},
   "outputs": [],
   "source": [
    "def function(text):\n",
    "    if text in city:\n",
    "        return text\n",
    "    else:\n",
    "        return \"Other_Citys\"\n",
    "    \n",
    "df['City'] = df['City'].apply(function)\n"
   ]
  },
  {
   "cell_type": "code",
   "execution_count": 100,
   "id": "c7e5ed8d",
   "metadata": {},
   "outputs": [
    {
     "data": {
      "text/html": [
       "<div>\n",
       "<style scoped>\n",
       "    .dataframe tbody tr th:only-of-type {\n",
       "        vertical-align: middle;\n",
       "    }\n",
       "\n",
       "    .dataframe tbody tr th {\n",
       "        vertical-align: top;\n",
       "    }\n",
       "\n",
       "    .dataframe thead th {\n",
       "        text-align: right;\n",
       "    }\n",
       "</style>\n",
       "<table border=\"1\" class=\"dataframe\">\n",
       "  <thead>\n",
       "    <tr style=\"text-align: right;\">\n",
       "      <th></th>\n",
       "      <th>Gender</th>\n",
       "      <th>Age</th>\n",
       "      <th>City</th>\n",
       "      <th>Profession</th>\n",
       "      <th>Academic Pressure</th>\n",
       "      <th>Work Pressure</th>\n",
       "      <th>CGPA</th>\n",
       "      <th>Study Satisfaction</th>\n",
       "      <th>Sleep Duration</th>\n",
       "      <th>Dietary Habits</th>\n",
       "      <th>Degree</th>\n",
       "      <th>Have you ever had suicidal thoughts ?</th>\n",
       "      <th>Work/Study Hours</th>\n",
       "      <th>Financial Stress</th>\n",
       "      <th>Family History of Mental Illness</th>\n",
       "      <th>Depression</th>\n",
       "    </tr>\n",
       "  </thead>\n",
       "  <tbody>\n",
       "    <tr>\n",
       "      <th>0</th>\n",
       "      <td>Male</td>\n",
       "      <td>33</td>\n",
       "      <td>Visakhapatnam</td>\n",
       "      <td>Student</td>\n",
       "      <td>5.0</td>\n",
       "      <td>0.0</td>\n",
       "      <td>8.97</td>\n",
       "      <td>2.0</td>\n",
       "      <td>5-6 hours</td>\n",
       "      <td>Healthy</td>\n",
       "      <td>B.Pharm</td>\n",
       "      <td>Yes</td>\n",
       "      <td>3</td>\n",
       "      <td>1.0</td>\n",
       "      <td>No</td>\n",
       "      <td>1</td>\n",
       "    </tr>\n",
       "    <tr>\n",
       "      <th>1</th>\n",
       "      <td>Female</td>\n",
       "      <td>24</td>\n",
       "      <td>Bangalore</td>\n",
       "      <td>Student</td>\n",
       "      <td>2.0</td>\n",
       "      <td>0.0</td>\n",
       "      <td>5.90</td>\n",
       "      <td>5.0</td>\n",
       "      <td>5-6 hours</td>\n",
       "      <td>Moderate</td>\n",
       "      <td>BSc</td>\n",
       "      <td>No</td>\n",
       "      <td>3</td>\n",
       "      <td>2.0</td>\n",
       "      <td>Yes</td>\n",
       "      <td>0</td>\n",
       "    </tr>\n",
       "    <tr>\n",
       "      <th>2</th>\n",
       "      <td>Male</td>\n",
       "      <td>31</td>\n",
       "      <td>Srinagar</td>\n",
       "      <td>Student</td>\n",
       "      <td>3.0</td>\n",
       "      <td>0.0</td>\n",
       "      <td>7.03</td>\n",
       "      <td>5.0</td>\n",
       "      <td>Less than 5 hours</td>\n",
       "      <td>Healthy</td>\n",
       "      <td>BA</td>\n",
       "      <td>No</td>\n",
       "      <td>9</td>\n",
       "      <td>1.0</td>\n",
       "      <td>Yes</td>\n",
       "      <td>0</td>\n",
       "    </tr>\n",
       "    <tr>\n",
       "      <th>3</th>\n",
       "      <td>Female</td>\n",
       "      <td>28</td>\n",
       "      <td>Varanasi</td>\n",
       "      <td>Student</td>\n",
       "      <td>3.0</td>\n",
       "      <td>0.0</td>\n",
       "      <td>5.59</td>\n",
       "      <td>2.0</td>\n",
       "      <td>7-8 hours</td>\n",
       "      <td>Moderate</td>\n",
       "      <td>BCA</td>\n",
       "      <td>Yes</td>\n",
       "      <td>4</td>\n",
       "      <td>5.0</td>\n",
       "      <td>Yes</td>\n",
       "      <td>1</td>\n",
       "    </tr>\n",
       "    <tr>\n",
       "      <th>4</th>\n",
       "      <td>Female</td>\n",
       "      <td>25</td>\n",
       "      <td>Jaipur</td>\n",
       "      <td>Student</td>\n",
       "      <td>4.0</td>\n",
       "      <td>0.0</td>\n",
       "      <td>8.13</td>\n",
       "      <td>3.0</td>\n",
       "      <td>5-6 hours</td>\n",
       "      <td>Moderate</td>\n",
       "      <td>M.Tech</td>\n",
       "      <td>Yes</td>\n",
       "      <td>1</td>\n",
       "      <td>1.0</td>\n",
       "      <td>No</td>\n",
       "      <td>0</td>\n",
       "    </tr>\n",
       "  </tbody>\n",
       "</table>\n",
       "</div>"
      ],
      "text/plain": [
       "   Gender  Age           City Profession  Academic Pressure  Work Pressure  \\\n",
       "0    Male   33  Visakhapatnam    Student                5.0            0.0   \n",
       "1  Female   24      Bangalore    Student                2.0            0.0   \n",
       "2    Male   31       Srinagar    Student                3.0            0.0   \n",
       "3  Female   28       Varanasi    Student                3.0            0.0   \n",
       "4  Female   25         Jaipur    Student                4.0            0.0   \n",
       "\n",
       "   CGPA  Study Satisfaction     Sleep Duration Dietary Habits   Degree  \\\n",
       "0  8.97                 2.0          5-6 hours        Healthy  B.Pharm   \n",
       "1  5.90                 5.0          5-6 hours       Moderate      BSc   \n",
       "2  7.03                 5.0  Less than 5 hours        Healthy       BA   \n",
       "3  5.59                 2.0          7-8 hours       Moderate      BCA   \n",
       "4  8.13                 3.0          5-6 hours       Moderate   M.Tech   \n",
       "\n",
       "  Have you ever had suicidal thoughts ?  Work/Study Hours Financial Stress  \\\n",
       "0                                   Yes                 3              1.0   \n",
       "1                                    No                 3              2.0   \n",
       "2                                    No                 9              1.0   \n",
       "3                                   Yes                 4              5.0   \n",
       "4                                   Yes                 1              1.0   \n",
       "\n",
       "  Family History of Mental Illness  Depression  \n",
       "0                               No           1  \n",
       "1                              Yes           0  \n",
       "2                              Yes           0  \n",
       "3                              Yes           1  \n",
       "4                               No           0  "
      ]
     },
     "execution_count": 100,
     "metadata": {},
     "output_type": "execute_result"
    }
   ],
   "source": [
    "df.head()"
   ]
  },
  {
   "cell_type": "code",
   "execution_count": 101,
   "id": "3c7b3757",
   "metadata": {},
   "outputs": [],
   "source": [
    "df.drop(['Work Pressure'],axis=1,inplace=True)"
   ]
  },
  {
   "cell_type": "code",
   "execution_count": 102,
   "id": "1b11777a",
   "metadata": {},
   "outputs": [
    {
     "data": {
      "text/html": [
       "<div>\n",
       "<style scoped>\n",
       "    .dataframe tbody tr th:only-of-type {\n",
       "        vertical-align: middle;\n",
       "    }\n",
       "\n",
       "    .dataframe tbody tr th {\n",
       "        vertical-align: top;\n",
       "    }\n",
       "\n",
       "    .dataframe thead th {\n",
       "        text-align: right;\n",
       "    }\n",
       "</style>\n",
       "<table border=\"1\" class=\"dataframe\">\n",
       "  <thead>\n",
       "    <tr style=\"text-align: right;\">\n",
       "      <th></th>\n",
       "      <th>Gender</th>\n",
       "      <th>Age</th>\n",
       "      <th>City</th>\n",
       "      <th>Profession</th>\n",
       "      <th>Academic Pressure</th>\n",
       "      <th>CGPA</th>\n",
       "      <th>Study Satisfaction</th>\n",
       "      <th>Sleep Duration</th>\n",
       "      <th>Dietary Habits</th>\n",
       "      <th>Degree</th>\n",
       "      <th>Have you ever had suicidal thoughts ?</th>\n",
       "      <th>Work/Study Hours</th>\n",
       "      <th>Financial Stress</th>\n",
       "      <th>Family History of Mental Illness</th>\n",
       "      <th>Depression</th>\n",
       "    </tr>\n",
       "  </thead>\n",
       "  <tbody>\n",
       "    <tr>\n",
       "      <th>0</th>\n",
       "      <td>Male</td>\n",
       "      <td>33</td>\n",
       "      <td>Visakhapatnam</td>\n",
       "      <td>Student</td>\n",
       "      <td>5.0</td>\n",
       "      <td>8.97</td>\n",
       "      <td>2.0</td>\n",
       "      <td>5-6 hours</td>\n",
       "      <td>Healthy</td>\n",
       "      <td>B.Pharm</td>\n",
       "      <td>Yes</td>\n",
       "      <td>3</td>\n",
       "      <td>1.0</td>\n",
       "      <td>No</td>\n",
       "      <td>1</td>\n",
       "    </tr>\n",
       "    <tr>\n",
       "      <th>1</th>\n",
       "      <td>Female</td>\n",
       "      <td>24</td>\n",
       "      <td>Bangalore</td>\n",
       "      <td>Student</td>\n",
       "      <td>2.0</td>\n",
       "      <td>5.90</td>\n",
       "      <td>5.0</td>\n",
       "      <td>5-6 hours</td>\n",
       "      <td>Moderate</td>\n",
       "      <td>BSc</td>\n",
       "      <td>No</td>\n",
       "      <td>3</td>\n",
       "      <td>2.0</td>\n",
       "      <td>Yes</td>\n",
       "      <td>0</td>\n",
       "    </tr>\n",
       "    <tr>\n",
       "      <th>2</th>\n",
       "      <td>Male</td>\n",
       "      <td>31</td>\n",
       "      <td>Srinagar</td>\n",
       "      <td>Student</td>\n",
       "      <td>3.0</td>\n",
       "      <td>7.03</td>\n",
       "      <td>5.0</td>\n",
       "      <td>Less than 5 hours</td>\n",
       "      <td>Healthy</td>\n",
       "      <td>BA</td>\n",
       "      <td>No</td>\n",
       "      <td>9</td>\n",
       "      <td>1.0</td>\n",
       "      <td>Yes</td>\n",
       "      <td>0</td>\n",
       "    </tr>\n",
       "    <tr>\n",
       "      <th>3</th>\n",
       "      <td>Female</td>\n",
       "      <td>28</td>\n",
       "      <td>Varanasi</td>\n",
       "      <td>Student</td>\n",
       "      <td>3.0</td>\n",
       "      <td>5.59</td>\n",
       "      <td>2.0</td>\n",
       "      <td>7-8 hours</td>\n",
       "      <td>Moderate</td>\n",
       "      <td>BCA</td>\n",
       "      <td>Yes</td>\n",
       "      <td>4</td>\n",
       "      <td>5.0</td>\n",
       "      <td>Yes</td>\n",
       "      <td>1</td>\n",
       "    </tr>\n",
       "    <tr>\n",
       "      <th>4</th>\n",
       "      <td>Female</td>\n",
       "      <td>25</td>\n",
       "      <td>Jaipur</td>\n",
       "      <td>Student</td>\n",
       "      <td>4.0</td>\n",
       "      <td>8.13</td>\n",
       "      <td>3.0</td>\n",
       "      <td>5-6 hours</td>\n",
       "      <td>Moderate</td>\n",
       "      <td>M.Tech</td>\n",
       "      <td>Yes</td>\n",
       "      <td>1</td>\n",
       "      <td>1.0</td>\n",
       "      <td>No</td>\n",
       "      <td>0</td>\n",
       "    </tr>\n",
       "  </tbody>\n",
       "</table>\n",
       "</div>"
      ],
      "text/plain": [
       "   Gender  Age           City Profession  Academic Pressure  CGPA  \\\n",
       "0    Male   33  Visakhapatnam    Student                5.0  8.97   \n",
       "1  Female   24      Bangalore    Student                2.0  5.90   \n",
       "2    Male   31       Srinagar    Student                3.0  7.03   \n",
       "3  Female   28       Varanasi    Student                3.0  5.59   \n",
       "4  Female   25         Jaipur    Student                4.0  8.13   \n",
       "\n",
       "   Study Satisfaction     Sleep Duration Dietary Habits   Degree  \\\n",
       "0                 2.0          5-6 hours        Healthy  B.Pharm   \n",
       "1                 5.0          5-6 hours       Moderate      BSc   \n",
       "2                 5.0  Less than 5 hours        Healthy       BA   \n",
       "3                 2.0          7-8 hours       Moderate      BCA   \n",
       "4                 3.0          5-6 hours       Moderate   M.Tech   \n",
       "\n",
       "  Have you ever had suicidal thoughts ?  Work/Study Hours Financial Stress  \\\n",
       "0                                   Yes                 3              1.0   \n",
       "1                                    No                 3              2.0   \n",
       "2                                    No                 9              1.0   \n",
       "3                                   Yes                 4              5.0   \n",
       "4                                   Yes                 1              1.0   \n",
       "\n",
       "  Family History of Mental Illness  Depression  \n",
       "0                               No           1  \n",
       "1                              Yes           0  \n",
       "2                              Yes           0  \n",
       "3                              Yes           1  \n",
       "4                               No           0  "
      ]
     },
     "execution_count": 102,
     "metadata": {},
     "output_type": "execute_result"
    }
   ],
   "source": [
    "df.head()"
   ]
  },
  {
   "cell_type": "code",
   "execution_count": 103,
   "id": "2b467c7b",
   "metadata": {},
   "outputs": [],
   "source": [
    "from sklearn.preprocessing import OneHotEncoder\n",
    "from sklearn.preprocessing import OrdinalEncoder,StandardScaler\n",
    "from sklearn.compose import ColumnTransformer\n",
    "from sklearn.pipeline import Pipeline\n",
    "\n",
    "\n",
    "onehot = OneHotEncoder()\n",
    "hotter_encoder = onehot.fit_transform(df[['City','Profession','Sleep Duration','Degree']]).toarray()\n",
    "\n",
    "ordinal = OrdinalEncoder()\n",
    "ordinal_encoder = ordinal.fit_transform(df[['Gender','Dietary Habits','Have you ever had suicidal thoughts ?','Family History of Mental Illness']])\n"
   ]
  },
  {
   "cell_type": "code",
   "execution_count": 104,
   "id": "fd2d565a",
   "metadata": {},
   "outputs": [
    {
     "data": {
      "text/plain": [
       "array([[0., 0., 0., ..., 0., 0., 0.],\n",
       "       [0., 0., 1., ..., 0., 0., 0.],\n",
       "       [0., 0., 0., ..., 0., 0., 0.],\n",
       "       ...,\n",
       "       [0., 0., 0., ..., 0., 0., 0.],\n",
       "       [0., 0., 0., ..., 0., 0., 0.],\n",
       "       [0., 0., 0., ..., 0., 0., 0.]])"
      ]
     },
     "execution_count": 104,
     "metadata": {},
     "output_type": "execute_result"
    }
   ],
   "source": [
    "hotter_encoder"
   ]
  },
  {
   "cell_type": "code",
   "execution_count": 105,
   "id": "3c28daca",
   "metadata": {},
   "outputs": [
    {
     "data": {
      "text/plain": [
       "array([[1., 0., 1., 0.],\n",
       "       [0., 1., 0., 1.],\n",
       "       [1., 0., 0., 1.],\n",
       "       ...,\n",
       "       [1., 3., 0., 0.],\n",
       "       [0., 0., 1., 0.],\n",
       "       [1., 0., 1., 1.]])"
      ]
     },
     "execution_count": 105,
     "metadata": {},
     "output_type": "execute_result"
    }
   ],
   "source": [
    "ordinal_encoder"
   ]
  },
  {
   "cell_type": "code",
   "execution_count": 106,
   "id": "c4a2193f",
   "metadata": {},
   "outputs": [],
   "source": [
    "df2 = df.copy()"
   ]
  },
  {
   "cell_type": "code",
   "execution_count": 107,
   "id": "5d2f208b",
   "metadata": {},
   "outputs": [
    {
     "data": {
      "text/html": [
       "<div>\n",
       "<style scoped>\n",
       "    .dataframe tbody tr th:only-of-type {\n",
       "        vertical-align: middle;\n",
       "    }\n",
       "\n",
       "    .dataframe tbody tr th {\n",
       "        vertical-align: top;\n",
       "    }\n",
       "\n",
       "    .dataframe thead th {\n",
       "        text-align: right;\n",
       "    }\n",
       "</style>\n",
       "<table border=\"1\" class=\"dataframe\">\n",
       "  <thead>\n",
       "    <tr style=\"text-align: right;\">\n",
       "      <th></th>\n",
       "      <th>Gender</th>\n",
       "      <th>Age</th>\n",
       "      <th>City</th>\n",
       "      <th>Profession</th>\n",
       "      <th>Academic Pressure</th>\n",
       "      <th>CGPA</th>\n",
       "      <th>Study Satisfaction</th>\n",
       "      <th>Sleep Duration</th>\n",
       "      <th>Dietary Habits</th>\n",
       "      <th>Degree</th>\n",
       "      <th>Have you ever had suicidal thoughts ?</th>\n",
       "      <th>Work/Study Hours</th>\n",
       "      <th>Financial Stress</th>\n",
       "      <th>Family History of Mental Illness</th>\n",
       "      <th>Depression</th>\n",
       "    </tr>\n",
       "  </thead>\n",
       "  <tbody>\n",
       "    <tr>\n",
       "      <th>0</th>\n",
       "      <td>Male</td>\n",
       "      <td>33</td>\n",
       "      <td>Visakhapatnam</td>\n",
       "      <td>Student</td>\n",
       "      <td>5.0</td>\n",
       "      <td>8.97</td>\n",
       "      <td>2.0</td>\n",
       "      <td>5-6 hours</td>\n",
       "      <td>Healthy</td>\n",
       "      <td>B.Pharm</td>\n",
       "      <td>Yes</td>\n",
       "      <td>3</td>\n",
       "      <td>1.0</td>\n",
       "      <td>No</td>\n",
       "      <td>1</td>\n",
       "    </tr>\n",
       "    <tr>\n",
       "      <th>1</th>\n",
       "      <td>Female</td>\n",
       "      <td>24</td>\n",
       "      <td>Bangalore</td>\n",
       "      <td>Student</td>\n",
       "      <td>2.0</td>\n",
       "      <td>5.90</td>\n",
       "      <td>5.0</td>\n",
       "      <td>5-6 hours</td>\n",
       "      <td>Moderate</td>\n",
       "      <td>BSc</td>\n",
       "      <td>No</td>\n",
       "      <td>3</td>\n",
       "      <td>2.0</td>\n",
       "      <td>Yes</td>\n",
       "      <td>0</td>\n",
       "    </tr>\n",
       "    <tr>\n",
       "      <th>2</th>\n",
       "      <td>Male</td>\n",
       "      <td>31</td>\n",
       "      <td>Srinagar</td>\n",
       "      <td>Student</td>\n",
       "      <td>3.0</td>\n",
       "      <td>7.03</td>\n",
       "      <td>5.0</td>\n",
       "      <td>Less than 5 hours</td>\n",
       "      <td>Healthy</td>\n",
       "      <td>BA</td>\n",
       "      <td>No</td>\n",
       "      <td>9</td>\n",
       "      <td>1.0</td>\n",
       "      <td>Yes</td>\n",
       "      <td>0</td>\n",
       "    </tr>\n",
       "    <tr>\n",
       "      <th>3</th>\n",
       "      <td>Female</td>\n",
       "      <td>28</td>\n",
       "      <td>Varanasi</td>\n",
       "      <td>Student</td>\n",
       "      <td>3.0</td>\n",
       "      <td>5.59</td>\n",
       "      <td>2.0</td>\n",
       "      <td>7-8 hours</td>\n",
       "      <td>Moderate</td>\n",
       "      <td>BCA</td>\n",
       "      <td>Yes</td>\n",
       "      <td>4</td>\n",
       "      <td>5.0</td>\n",
       "      <td>Yes</td>\n",
       "      <td>1</td>\n",
       "    </tr>\n",
       "    <tr>\n",
       "      <th>4</th>\n",
       "      <td>Female</td>\n",
       "      <td>25</td>\n",
       "      <td>Jaipur</td>\n",
       "      <td>Student</td>\n",
       "      <td>4.0</td>\n",
       "      <td>8.13</td>\n",
       "      <td>3.0</td>\n",
       "      <td>5-6 hours</td>\n",
       "      <td>Moderate</td>\n",
       "      <td>M.Tech</td>\n",
       "      <td>Yes</td>\n",
       "      <td>1</td>\n",
       "      <td>1.0</td>\n",
       "      <td>No</td>\n",
       "      <td>0</td>\n",
       "    </tr>\n",
       "  </tbody>\n",
       "</table>\n",
       "</div>"
      ],
      "text/plain": [
       "   Gender  Age           City Profession  Academic Pressure  CGPA  \\\n",
       "0    Male   33  Visakhapatnam    Student                5.0  8.97   \n",
       "1  Female   24      Bangalore    Student                2.0  5.90   \n",
       "2    Male   31       Srinagar    Student                3.0  7.03   \n",
       "3  Female   28       Varanasi    Student                3.0  5.59   \n",
       "4  Female   25         Jaipur    Student                4.0  8.13   \n",
       "\n",
       "   Study Satisfaction     Sleep Duration Dietary Habits   Degree  \\\n",
       "0                 2.0          5-6 hours        Healthy  B.Pharm   \n",
       "1                 5.0          5-6 hours       Moderate      BSc   \n",
       "2                 5.0  Less than 5 hours        Healthy       BA   \n",
       "3                 2.0          7-8 hours       Moderate      BCA   \n",
       "4                 3.0          5-6 hours       Moderate   M.Tech   \n",
       "\n",
       "  Have you ever had suicidal thoughts ?  Work/Study Hours Financial Stress  \\\n",
       "0                                   Yes                 3              1.0   \n",
       "1                                    No                 3              2.0   \n",
       "2                                    No                 9              1.0   \n",
       "3                                   Yes                 4              5.0   \n",
       "4                                   Yes                 1              1.0   \n",
       "\n",
       "  Family History of Mental Illness  Depression  \n",
       "0                               No           1  \n",
       "1                              Yes           0  \n",
       "2                              Yes           0  \n",
       "3                              Yes           1  \n",
       "4                               No           0  "
      ]
     },
     "execution_count": 107,
     "metadata": {},
     "output_type": "execute_result"
    }
   ],
   "source": [
    "df2.head()"
   ]
  },
  {
   "cell_type": "code",
   "execution_count": 108,
   "id": "8d3447c8",
   "metadata": {},
   "outputs": [],
   "source": [
    "df2.drop(['Gender','City','Profession','Sleep Duration','Dietary Habits','Degree','Have you ever had suicidal thoughts ?','Family History of Mental Illness'],axis=1,inplace=True)"
   ]
  },
  {
   "cell_type": "code",
   "execution_count": 109,
   "id": "3510cf89",
   "metadata": {},
   "outputs": [
    {
     "data": {
      "text/html": [
       "<div>\n",
       "<style scoped>\n",
       "    .dataframe tbody tr th:only-of-type {\n",
       "        vertical-align: middle;\n",
       "    }\n",
       "\n",
       "    .dataframe tbody tr th {\n",
       "        vertical-align: top;\n",
       "    }\n",
       "\n",
       "    .dataframe thead th {\n",
       "        text-align: right;\n",
       "    }\n",
       "</style>\n",
       "<table border=\"1\" class=\"dataframe\">\n",
       "  <thead>\n",
       "    <tr style=\"text-align: right;\">\n",
       "      <th></th>\n",
       "      <th>Age</th>\n",
       "      <th>Academic Pressure</th>\n",
       "      <th>CGPA</th>\n",
       "      <th>Study Satisfaction</th>\n",
       "      <th>Work/Study Hours</th>\n",
       "      <th>Financial Stress</th>\n",
       "      <th>Depression</th>\n",
       "    </tr>\n",
       "  </thead>\n",
       "  <tbody>\n",
       "    <tr>\n",
       "      <th>0</th>\n",
       "      <td>33</td>\n",
       "      <td>5.0</td>\n",
       "      <td>8.97</td>\n",
       "      <td>2.0</td>\n",
       "      <td>3</td>\n",
       "      <td>1.0</td>\n",
       "      <td>1</td>\n",
       "    </tr>\n",
       "    <tr>\n",
       "      <th>1</th>\n",
       "      <td>24</td>\n",
       "      <td>2.0</td>\n",
       "      <td>5.90</td>\n",
       "      <td>5.0</td>\n",
       "      <td>3</td>\n",
       "      <td>2.0</td>\n",
       "      <td>0</td>\n",
       "    </tr>\n",
       "    <tr>\n",
       "      <th>2</th>\n",
       "      <td>31</td>\n",
       "      <td>3.0</td>\n",
       "      <td>7.03</td>\n",
       "      <td>5.0</td>\n",
       "      <td>9</td>\n",
       "      <td>1.0</td>\n",
       "      <td>0</td>\n",
       "    </tr>\n",
       "    <tr>\n",
       "      <th>3</th>\n",
       "      <td>28</td>\n",
       "      <td>3.0</td>\n",
       "      <td>5.59</td>\n",
       "      <td>2.0</td>\n",
       "      <td>4</td>\n",
       "      <td>5.0</td>\n",
       "      <td>1</td>\n",
       "    </tr>\n",
       "    <tr>\n",
       "      <th>4</th>\n",
       "      <td>25</td>\n",
       "      <td>4.0</td>\n",
       "      <td>8.13</td>\n",
       "      <td>3.0</td>\n",
       "      <td>1</td>\n",
       "      <td>1.0</td>\n",
       "      <td>0</td>\n",
       "    </tr>\n",
       "  </tbody>\n",
       "</table>\n",
       "</div>"
      ],
      "text/plain": [
       "   Age  Academic Pressure  CGPA  Study Satisfaction  Work/Study Hours  \\\n",
       "0   33                5.0  8.97                 2.0                 3   \n",
       "1   24                2.0  5.90                 5.0                 3   \n",
       "2   31                3.0  7.03                 5.0                 9   \n",
       "3   28                3.0  5.59                 2.0                 4   \n",
       "4   25                4.0  8.13                 3.0                 1   \n",
       "\n",
       "  Financial Stress  Depression  \n",
       "0              1.0           1  \n",
       "1              2.0           0  \n",
       "2              1.0           0  \n",
       "3              5.0           1  \n",
       "4              1.0           0  "
      ]
     },
     "execution_count": 109,
     "metadata": {},
     "output_type": "execute_result"
    }
   ],
   "source": [
    "df2.head()"
   ]
  },
  {
   "cell_type": "code",
   "execution_count": null,
   "id": "6ad5d110",
   "metadata": {},
   "outputs": [
    {
     "data": {
      "text/plain": [
       "array([[33, 5.0, 8.97, 2.0, 3, '1.0'],\n",
       "       [24, 2.0, 5.9, 5.0, 3, '2.0'],\n",
       "       [31, 3.0, 7.03, 5.0, 9, '1.0'],\n",
       "       ...,\n",
       "       [31, 3.0, 6.61, 4.0, 12, '2.0'],\n",
       "       [18, 5.0, 6.88, 2.0, 10, '5.0'],\n",
       "       [27, 4.0, 9.24, 1.0, 2, '3.0']], dtype=object)"
      ]
     },
     "execution_count": 112,
     "metadata": {},
     "output_type": "execute_result"
    }
   ],
   "source": [
    "input = df2.drop(['Depression'],axis=1)\n",
    "input = input.values\n",
    "input"
   ]
  },
  {
   "cell_type": "code",
   "execution_count": 119,
   "id": "534b23c3",
   "metadata": {},
   "outputs": [],
   "source": [
    "X = np.hstack((hotter_encoder,ordinal_encoder))"
   ]
  },
  {
   "cell_type": "code",
   "execution_count": 121,
   "id": "15dfaf06",
   "metadata": {},
   "outputs": [],
   "source": [
    "Y = df2['Depression']"
   ]
  },
  {
   "cell_type": "code",
   "execution_count": 123,
   "id": "7fced037",
   "metadata": {},
   "outputs": [
    {
     "data": {
      "text/plain": [
       "array([[-0.20201544, -0.18784986, -0.16812828, ..., -1.1823635 ,\n",
       "         0.76174537, -0.96842067],\n",
       "       [-0.20201544, -0.18784986,  5.94783933, ..., -0.37570456,\n",
       "        -1.31277464,  1.03260911],\n",
       "       [-0.20201544, -0.18784986, -0.16812828, ..., -1.1823635 ,\n",
       "        -1.31277464,  1.03260911],\n",
       "       ...,\n",
       "       [-0.20201544, -0.18784986, -0.16812828, ...,  1.23761332,\n",
       "        -1.31277464, -0.96842067],\n",
       "       [-0.20201544, -0.18784986, -0.16812828, ..., -1.1823635 ,\n",
       "         0.76174537, -0.96842067],\n",
       "       [-0.20201544, -0.18784986, -0.16812828, ..., -1.1823635 ,\n",
       "         0.76174537,  1.03260911]])"
      ]
     },
     "execution_count": 123,
     "metadata": {},
     "output_type": "execute_result"
    }
   ],
   "source": [
    "scaler = StandardScaler()\n",
    "x_scaler = scaler.fit_transform(X)\n",
    "x_scaler"
   ]
  },
  {
   "cell_type": "code",
   "execution_count": 128,
   "id": "cab2a570",
   "metadata": {},
   "outputs": [],
   "source": [
    "from sklearn.model_selection import train_test_split\n",
    "\n",
    "x_train,x_test,y_train,y_test = train_test_split(x_scaler,Y,test_size=0.2,random_state=12)"
   ]
  },
  {
   "cell_type": "code",
   "execution_count": 129,
   "id": "d6caa883",
   "metadata": {},
   "outputs": [
    {
     "data": {
      "text/plain": [
       "array([[-0.20201544,  5.32340032, -0.16812828, ..., -0.37570456,\n",
       "        -1.31277464, -0.96842067],\n",
       "       [-0.20201544, -0.18784986, -0.16812828, ..., -1.1823635 ,\n",
       "         0.76174537,  1.03260911],\n",
       "       [-0.20201544, -0.18784986, -0.16812828, ..., -1.1823635 ,\n",
       "         0.76174537,  1.03260911],\n",
       "       ...,\n",
       "       [-0.20201544, -0.18784986, -0.16812828, ..., -0.37570456,\n",
       "        -1.31277464,  1.03260911],\n",
       "       [-0.20201544, -0.18784986, -0.16812828, ..., -0.37570456,\n",
       "         0.76174537,  1.03260911],\n",
       "       [-0.20201544, -0.18784986, -0.16812828, ..., -0.37570456,\n",
       "         0.76174537,  1.03260911]])"
      ]
     },
     "execution_count": 129,
     "metadata": {},
     "output_type": "execute_result"
    }
   ],
   "source": [
    "\n",
    "x_train"
   ]
  },
  {
   "cell_type": "code",
   "execution_count": 130,
   "id": "3a6ce22e",
   "metadata": {},
   "outputs": [
    {
     "data": {
      "text/plain": [
       "26975    0\n",
       "10865    0\n",
       "1381     1\n",
       "16550    1\n",
       "6633     0\n",
       "        ..\n",
       "7409     1\n",
       "19709    0\n",
       "25990    0\n",
       "5787     1\n",
       "14155    1\n",
       "Name: Depression, Length: 22320, dtype: int64"
      ]
     },
     "execution_count": 130,
     "metadata": {},
     "output_type": "execute_result"
    }
   ],
   "source": [
    "y_train"
   ]
  },
  {
   "cell_type": "code",
   "execution_count": 127,
   "id": "5a97569d",
   "metadata": {},
   "outputs": [],
   "source": [
    "\n",
    "from sklearn.ensemble import RandomForestClassifier\n",
    "from sklearn.ensemble import GradientBoostingClassifier\n",
    "from sklearn.linear_model import LogisticRegression\n"
   ]
  },
  {
   "cell_type": "code",
   "execution_count": 131,
   "id": "feb05aa9",
   "metadata": {},
   "outputs": [
    {
     "data": {
      "text/plain": [
       "0.7418025443468912"
      ]
     },
     "execution_count": 131,
     "metadata": {},
     "output_type": "execute_result"
    }
   ],
   "source": [
    "from sklearn.metrics import accuracy_score\n",
    "\n",
    "random = RandomForestClassifier()\n",
    "random.fit(x_train,y_train)\n",
    "y_pred = random.predict(x_test)\n",
    "accuracy_score(y_test,y_pred)"
   ]
  },
  {
   "cell_type": "code",
   "execution_count": null,
   "id": "66e380ee",
   "metadata": {},
   "outputs": [],
   "source": []
  }
 ],
 "metadata": {
  "kernelspec": {
   "display_name": "Python 3",
   "language": "python",
   "name": "python3"
  },
  "language_info": {
   "codemirror_mode": {
    "name": "ipython",
    "version": 3
   },
   "file_extension": ".py",
   "mimetype": "text/x-python",
   "name": "python",
   "nbconvert_exporter": "python",
   "pygments_lexer": "ipython3",
   "version": "3.10.0"
  }
 },
 "nbformat": 4,
 "nbformat_minor": 5
}
